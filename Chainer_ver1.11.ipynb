{
 "cells": [
  {
   "cell_type": "code",
   "execution_count": 1,
   "metadata": {
    "collapsed": true
   },
   "outputs": [],
   "source": [
    "import chainer\n",
    "import chainer.functions as F\n",
    "import chainer.links as L\n",
    "# trianerクラスが新機能として追加\n",
    "from chainer import training\n",
    "from chainer.training import extensions"
   ]
  },
  {
   "cell_type": "code",
   "execution_count": 4,
   "metadata": {
    "collapsed": true
   },
   "outputs": [],
   "source": [
    "# ネットワークの組み方・ハイパーパラ、メータの設定は変更なし\n",
    "class MnistModel(chainer.Chain):\n",
    "    def __init__(self):\n",
    "        super(MnistModel,self).__init__(\n",
    "                l1 = L.Linear(784,100),\n",
    "                l2 = L.Linear(100,100),\n",
    "                l3 = L.Linear(100,10))\n",
    "\n",
    "    def __call__(self,x):    \n",
    "        h = F.relu(self.l1(x))\n",
    "        h = F.relu(self.l2(h))\n",
    "        return self.l3(h)\n",
    "\n",
    "model = L.Classifier(MnistModel())\n",
    "optimizer = chainer.optimizers.Adam()\n",
    "optimizer.setup(model)"
   ]
  },
  {
   "cell_type": "code",
   "execution_count": 5,
   "metadata": {
    "collapsed": false,
    "scrolled": true
   },
   "outputs": [
    {
     "name": "stdout",
     "output_type": "stream",
     "text": [
      "Downloading from http://yann.lecun.com/exdb/mnist/train-images-idx3-ubyte.gz...\n",
      "Downloading from http://yann.lecun.com/exdb/mnist/train-labels-idx1-ubyte.gz...\n",
      "Downloading from http://yann.lecun.com/exdb/mnist/t10k-images-idx3-ubyte.gz...\n",
      "Downloading from http://yann.lecun.com/exdb/mnist/t10k-labels-idx1-ubyte.gz...\n"
     ]
    }
   ],
   "source": [
    "# mnistデータセットとってくる\n",
    "# train testはNumpy配列\n",
    "train, test = chainer.datasets.get_mnist()\n",
    "\n",
    "# hainer.iterators.SerialIteratorが内部でchainer.dataset.iterator(以下イテレーター)を呼んでいる\n",
    "train_iter = chainer.iterators.SerialIterator(train, 100)\n",
    "test_iter = chainer.iterators.SerialIterator(test, 100,repeat=False, shuffle=False)"
   ]
  },
  {
   "cell_type": "markdown",
   "metadata": {},
   "source": [
    "### Trainerとは？\n",
    "自分たちで書いていた、学習ループやログ出力などを代わりに行ってくれるもの\n"
   ]
  },
  {
   "cell_type": "markdown",
   "metadata": {},
   "source": [
    "### chainer.iterators.SerialIterator\n",
    "・dataset　　\n",
    "入力したいnumpy配列(numpy配列以外でもイテレーションできれば可)\n",
    "・batch_size　　\n",
    "バッチサイズ(int)　　\n",
    "・repeat　　\n",
    "繰り返しなし(エポック数1、主にテスト用)か繰り返しあり(エポック数1以上、主に訓練用)か(bool)　　\n",
    "・shuffle　　\n",
    "順番を入れ替えない(主に時系列データ用)か入れ替えるか(bool)"
   ]
  },
  {
   "cell_type": "code",
   "execution_count": 8,
   "metadata": {
    "collapsed": true
   },
   "outputs": [],
   "source": [
    "# Set up a Trainer\n",
    "updater = training.StandardUpdater(train_iter, optimizer, device=-1)\n",
    "trainer = training.Trainer(updater, (100, 'epoch'), out=\"result1\")\n",
    "\n",
    "# Evaluate the model with the test dataset for each epoch\n",
    "trainer.extend(extensions.Evaluator(test_iter, model, device=-1))\n",
    "\n",
    "# Write a log of evaluation statistics for each epoch\n",
    "trainer.extend(extensions.LogReport())\n",
    "\n",
    "# Print selected entries of the log to stdout\n",
    "# Here \"main\" refers to the target link of the \"main\" optimizer again, and\n",
    "# \"validation\" refers to the default name of the Evaluator extension.\n",
    "# Entries other than 'epoch' are reported by the Classifier link, called by\n",
    "# either the updater or the evaluator.\n",
    "trainer.extend(extensions.PrintReport( ['epoch', 'main/loss', 'validation/main/loss', 'main/accuracy', 'validation/main/accuracy']))\n",
    "\n",
    "# Print a progress bar to stdout\n",
    "trainer.extend(extensions.ProgressBar())"
   ]
  },
  {
   "cell_type": "code",
   "execution_count": 9,
   "metadata": {
    "collapsed": false
   },
   "outputs": [
    {
     "name": "stdout",
     "output_type": "stream",
     "text": [
      "\u001b[Jepoch       main/loss   validation/main/loss  main/accuracy  validation/main/accuracy\n",
      "\u001b[J\u001b[J\u001b[J\u001b[J\u001b[J\u001b[J\u001b[J\u001b[J\u001b[J\u001b[J\u001b[J\u001b[J\u001b[J\u001b[J\u001b[J\u001b[J\u001b[J\u001b[J\u001b[J\u001b[J\u001b[J\u001b[J\u001b[J\u001b[J\u001b[J\u001b[J\u001b[J\u001b[J\u001b[J\u001b[J\u001b[J\u001b[J\u001b[J\u001b[J\u001b[J\u001b[J\u001b[J\u001b[J\u001b[J\u001b[J\u001b[J\u001b[J\u001b[J\u001b[J\u001b[J\u001b[J\u001b[J\u001b[J\u001b[J\u001b[J\u001b[J\u001b[J\u001b[J\u001b[J\u001b[J\u001b[J\u001b[J\u001b[J\u001b[J\u001b[J\u001b[J\u001b[J\u001b[J\u001b[J\u001b[J\u001b[J\u001b[J\u001b[J\u001b[J\u001b[J\u001b[J\u001b[J\u001b[J\u001b[J\u001b[J\u001b[J\u001b[J\u001b[J\u001b[J\u001b[J\u001b[J\u001b[J\u001b[J\u001b[J\u001b[J\u001b[J\u001b[J\u001b[J\u001b[J\u001b[J\u001b[J\u001b[J\u001b[J\u001b[J\u001b[J\u001b[J\u001b[J\u001b[J\u001b[J\u001b[J\u001b[J\u001b[J\u001b[J\u001b[J\u001b[J\u001b[J\u001b[J\u001b[J\u001b[J\u001b[J\u001b[J\u001b[J\u001b[J\u001b[J\u001b[J\u001b[J\u001b[J\u001b[J\u001b[J\u001b[J\u001b[J\u001b[J\u001b[J\u001b[J\u001b[J\u001b[J\u001b[J\u001b[J\u001b[J\u001b[J\u001b[J\u001b[J\u001b[J\u001b[J\u001b[J\u001b[J\u001b[J\u001b[J\u001b[J\u001b[J\u001b[J\u001b[J\u001b[J\u001b[J\u001b[J\u001b[J\u001b[J\u001b[J\u001b[J\u001b[J\u001b[J\u001b[J\u001b[J\u001b[J\u001b[J\u001b[J\u001b[J\u001b[J\u001b[J\u001b[J\u001b[J\u001b[J\u001b[J\u001b[J\u001b[J\u001b[J\u001b[J\u001b[J\u001b[J\u001b[J\u001b[J\u001b[J\u001b[J\u001b[J\u001b[J\u001b[J\u001b[J\u001b[J\u001b[J\u001b[J\u001b[J\u001b[J\u001b[J\u001b[J\u001b[J\u001b[J\u001b[J\u001b[J\u001b[J\u001b[J\u001b[J\u001b[J\u001b[J\u001b[J\u001b[J\u001b[J\u001b[J\u001b[J\u001b[J\u001b[J     total [#.................................................]  2.33%\n",
      "this epoch [################..................................] 33.33%\n",
      "       200 iter, 2 epoch / 100 epochs\n",
      "    199.94 iters/sec. Estimated time to finish: 0:04:53.094769.\n",
      "\u001b[4A\u001b[J\u001b[J\u001b[J\u001b[J\u001b[J\u001b[J\u001b[J\u001b[J\u001b[J\u001b[J\u001b[J\u001b[J\u001b[J\u001b[J\u001b[J\u001b[J\u001b[J\u001b[J\u001b[J\u001b[J\u001b[J\u001b[J\u001b[J\u001b[J\u001b[J\u001b[J\u001b[J\u001b[J\u001b[J\u001b[J\u001b[J\u001b[J\u001b[J\u001b[J\u001b[J\u001b[J\u001b[J\u001b[J\u001b[J\u001b[J\u001b[J\u001b[J\u001b[J\u001b[J\u001b[J\u001b[J\u001b[J\u001b[J\u001b[J\u001b[J\u001b[J\u001b[J\u001b[J\u001b[J\u001b[J\u001b[J\u001b[J\u001b[J\u001b[J\u001b[J\u001b[J\u001b[J\u001b[J\u001b[J\u001b[J\u001b[J\u001b[J\u001b[J\u001b[J\u001b[J\u001b[J\u001b[J\u001b[J\u001b[J\u001b[J\u001b[J\u001b[J\u001b[J\u001b[J\u001b[J\u001b[J\u001b[J\u001b[J\u001b[J\u001b[J\u001b[J\u001b[J\u001b[J\u001b[J\u001b[J\u001b[J\u001b[J\u001b[J\u001b[J\u001b[J\u001b[J\u001b[J\u001b[J\u001b[J\u001b[J\u001b[J     total [#.................................................]  2.50%\n",
      "this epoch [#########################.........................] 50.00%\n",
      "       300 iter, 2 epoch / 100 epochs\n",
      "     198.5 iters/sec. Estimated time to finish: 0:04:54.712171.\n",
      "\u001b[4A\u001b[J\u001b[J\u001b[J\u001b[J\u001b[J\u001b[J\u001b[J\u001b[J\u001b[J\u001b[J\u001b[J\u001b[J\u001b[J\u001b[J\u001b[J\u001b[J\u001b[J\u001b[J\u001b[J\u001b[J\u001b[J\u001b[J\u001b[J\u001b[J\u001b[J\u001b[J\u001b[J\u001b[J\u001b[J\u001b[J\u001b[J\u001b[J\u001b[J\u001b[J\u001b[J\u001b[J\u001b[J\u001b[J\u001b[J\u001b[J\u001b[J\u001b[J\u001b[J\u001b[J\u001b[J\u001b[J\u001b[J\u001b[J\u001b[J\u001b[J\u001b[J\u001b[J\u001b[J\u001b[J\u001b[J\u001b[J\u001b[J\u001b[J\u001b[J\u001b[J\u001b[J\u001b[J\u001b[J\u001b[J\u001b[J\u001b[J\u001b[J\u001b[J\u001b[J\u001b[J\u001b[J\u001b[J\u001b[J\u001b[J\u001b[J\u001b[J\u001b[J\u001b[J\u001b[J\u001b[J\u001b[J\u001b[J\u001b[J\u001b[J\u001b[J\u001b[J\u001b[J\u001b[J\u001b[J\u001b[J\u001b[J\u001b[J\u001b[J\u001b[J\u001b[J\u001b[J\u001b[J\u001b[J\u001b[J\u001b[J\u001b[J     total [#.................................................]  2.67%\n",
      "this epoch [#################################.................] 66.67%\n",
      "       400 iter, 2 epoch / 100 epochs\n",
      "    198.57 iters/sec. Estimated time to finish: 0:04:54.106437.\n",
      "\u001b[4A\u001b[J\u001b[J\u001b[J\u001b[J\u001b[J\u001b[J\u001b[J\u001b[J\u001b[J\u001b[J\u001b[J\u001b[J\u001b[J\u001b[J\u001b[J\u001b[J\u001b[J\u001b[J\u001b[J\u001b[J\u001b[J\u001b[J\u001b[J\u001b[J\u001b[J\u001b[J\u001b[J\u001b[J\u001b[J\u001b[J\u001b[J\u001b[J\u001b[J\u001b[J\u001b[J\u001b[J\u001b[J\u001b[J\u001b[J\u001b[J\u001b[J\u001b[J\u001b[J\u001b[J\u001b[J\u001b[J\u001b[J\u001b[J\u001b[J\u001b[J\u001b[J\u001b[J\u001b[J\u001b[J\u001b[J\u001b[J\u001b[J\u001b[J\u001b[J\u001b[J\u001b[J\u001b[J\u001b[J\u001b[J\u001b[J\u001b[J\u001b[J\u001b[J\u001b[J\u001b[J\u001b[J\u001b[J\u001b[J\u001b[J\u001b[J\u001b[J\u001b[J\u001b[J\u001b[J\u001b[J\u001b[J\u001b[J\u001b[J\u001b[J\u001b[J\u001b[J\u001b[J\u001b[J\u001b[J\u001b[J\u001b[J\u001b[J\u001b[J\u001b[J\u001b[J\u001b[J\u001b[J\u001b[J\u001b[J\u001b[J\u001b[J     total [#.................................................]  2.83%\n",
      "this epoch [#########################################.........] 83.33%\n",
      "       500 iter, 2 epoch / 100 epochs\n",
      "     197.7 iters/sec. Estimated time to finish: 0:04:54.883835.\n",
      "\u001b[4A\u001b[J\u001b[J\u001b[J\u001b[J\u001b[J\u001b[J\u001b[J\u001b[J\u001b[J\u001b[J\u001b[J\u001b[J\u001b[J\u001b[J\u001b[J\u001b[J\u001b[J\u001b[J\u001b[J\u001b[J\u001b[J\u001b[J\u001b[J\u001b[J\u001b[J\u001b[J\u001b[J\u001b[J\u001b[J\u001b[J\u001b[J\u001b[J\u001b[J\u001b[J\u001b[J\u001b[J\u001b[J\u001b[J\u001b[J\u001b[J\u001b[J\u001b[J\u001b[J\u001b[J\u001b[J\u001b[J\u001b[J\u001b[J\u001b[J\u001b[J\u001b[J\u001b[J\u001b[J\u001b[J\u001b[J\u001b[J\u001b[J\u001b[J\u001b[J\u001b[J\u001b[J\u001b[J\u001b[J\u001b[J\u001b[J\u001b[J\u001b[J\u001b[J\u001b[J\u001b[J\u001b[J\u001b[J\u001b[J\u001b[J\u001b[J\u001b[J\u001b[J\u001b[J\u001b[J\u001b[J\u001b[J\u001b[J\u001b[J\u001b[J\u001b[J\u001b[J\u001b[J\u001b[J\u001b[J\u001b[J\u001b[J\u001b[J\u001b[J\u001b[J\u001b[J\u001b[J\u001b[J\u001b[J\u001b[J\u001b[J3           0.0980978   0.0925823             0.970833       0.9713                    \n",
      "\u001b[J     total [#.................................................]  3.00%\n",
      "this epoch [..................................................]  0.00%\n",
      "       600 iter, 3 epoch / 100 epochs\n",
      "    178.93 iters/sec. Estimated time to finish: 0:05:25.273888.\n",
      "\u001b[4A\u001b[J\u001b[J\u001b[J\u001b[J\u001b[J\u001b[J\u001b[J\u001b[J\u001b[J\u001b[J\u001b[J\u001b[J\u001b[J\u001b[J\u001b[J\u001b[J\u001b[J\u001b[J\u001b[J\u001b[J\u001b[J\u001b[J\u001b[J\u001b[J\u001b[J\u001b[J\u001b[J\u001b[J\u001b[J\u001b[J\u001b[J\u001b[J\u001b[J\u001b[J\u001b[J\u001b[J\u001b[J\u001b[J\u001b[J\u001b[J\u001b[J\u001b[J\u001b[J\u001b[J\u001b[J\u001b[J\u001b[J\u001b[J\u001b[J\u001b[J\u001b[J\u001b[J\u001b[J\u001b[J\u001b[J\u001b[J\u001b[J\u001b[J\u001b[J\u001b[J\u001b[J\u001b[J\u001b[J\u001b[J\u001b[J\u001b[J\u001b[J\u001b[J\u001b[J\u001b[J\u001b[J\u001b[J\u001b[J\u001b[J\u001b[J\u001b[J\u001b[J\u001b[J\u001b[J\u001b[J\u001b[J\u001b[J\u001b[J\u001b[J\u001b[J\u001b[J\u001b[J\u001b[J\u001b[J\u001b[J\u001b[J\u001b[J\u001b[J\u001b[J\u001b[J\u001b[J\u001b[J\u001b[J\u001b[J\u001b[J\u001b[J     total [#.................................................]  3.17%\n",
      "this epoch [########..........................................] 16.67%\n",
      "       700 iter, 3 epoch / 100 epochs\n",
      "    181.89 iters/sec. Estimated time to finish: 0:05:19.430110.\n",
      "\u001b[4A\u001b[J\u001b[J\u001b[J\u001b[J\u001b[J\u001b[J\u001b[J\u001b[J\u001b[J\u001b[J\u001b[J\u001b[J\u001b[J\u001b[J\u001b[J\u001b[J\u001b[J\u001b[J\u001b[J\u001b[J\u001b[J\u001b[J\u001b[J\u001b[J\u001b[J\u001b[J\u001b[J\u001b[J\u001b[J\u001b[J\u001b[J\u001b[J\u001b[J\u001b[J\u001b[J\u001b[J\u001b[J\u001b[J\u001b[J\u001b[J\u001b[J\u001b[J\u001b[J\u001b[J\u001b[J\u001b[J\u001b[J\u001b[J\u001b[J\u001b[J\u001b[J\u001b[J\u001b[J\u001b[J\u001b[J\u001b[J\u001b[J\u001b[J\u001b[J\u001b[J\u001b[J\u001b[J\u001b[J\u001b[J\u001b[J\u001b[J\u001b[J\u001b[J\u001b[J\u001b[J\u001b[J\u001b[J\u001b[J\u001b[J\u001b[J\u001b[J\u001b[J\u001b[J\u001b[J\u001b[J\u001b[J\u001b[J\u001b[J\u001b[J\u001b[J\u001b[J\u001b[J\u001b[J\u001b[J\u001b[J\u001b[J\u001b[J\u001b[J\u001b[J\u001b[J\u001b[J\u001b[J\u001b[J\u001b[J\u001b[J\u001b[J     total [#.................................................]  3.33%\n",
      "this epoch [################..................................] 33.33%\n",
      "       800 iter, 3 epoch / 100 epochs\n",
      "    183.94 iters/sec. Estimated time to finish: 0:05:15.315596.\n",
      "\u001b[4A\u001b[J\u001b[J\u001b[J\u001b[J\u001b[J\u001b[J\u001b[J\u001b[J\u001b[J\u001b[J\u001b[J\u001b[J\u001b[J\u001b[J\u001b[J\u001b[J\u001b[J\u001b[J\u001b[J\u001b[J\u001b[J\u001b[J\u001b[J\u001b[J\u001b[J\u001b[J\u001b[J\u001b[J\u001b[J\u001b[J\u001b[J\u001b[J\u001b[J\u001b[J\u001b[J\u001b[J\u001b[J\u001b[J\u001b[J\u001b[J\u001b[J\u001b[J\u001b[J\u001b[J\u001b[J\u001b[J\u001b[J\u001b[J\u001b[J\u001b[J\u001b[J\u001b[J\u001b[J\u001b[J\u001b[J\u001b[J\u001b[J\u001b[J\u001b[J\u001b[J\u001b[J\u001b[J\u001b[J\u001b[J\u001b[J\u001b[J\u001b[J\u001b[J\u001b[J\u001b[J\u001b[J\u001b[J\u001b[J\u001b[J\u001b[J\u001b[J\u001b[J\u001b[J\u001b[J\u001b[J\u001b[J\u001b[J\u001b[J\u001b[J\u001b[J\u001b[J\u001b[J\u001b[J\u001b[J\u001b[J\u001b[J\u001b[J\u001b[J\u001b[J\u001b[J\u001b[J\u001b[J\u001b[J\u001b[J\u001b[J\u001b[J     total [#.................................................]  3.50%\n",
      "this epoch [#########################.........................] 50.00%\n",
      "       900 iter, 3 epoch / 100 epochs\n",
      "    185.27 iters/sec. Estimated time to finish: 0:05:12.522966.\n",
      "\u001b[4A\u001b[J\u001b[J\u001b[J\u001b[J\u001b[J\u001b[J\u001b[J\u001b[J\u001b[J\u001b[J\u001b[J\u001b[J\u001b[J\u001b[J\u001b[J\u001b[J\u001b[J\u001b[J\u001b[J\u001b[J\u001b[J\u001b[J\u001b[J\u001b[J\u001b[J\u001b[J\u001b[J\u001b[J\u001b[J\u001b[J\u001b[J\u001b[J\u001b[J\u001b[J\u001b[J\u001b[J\u001b[J\u001b[J\u001b[J\u001b[J\u001b[J\u001b[J\u001b[J\u001b[J\u001b[J\u001b[J\u001b[J\u001b[J\u001b[J\u001b[J\u001b[J\u001b[J\u001b[J\u001b[J\u001b[J\u001b[J\u001b[J\u001b[J\u001b[J\u001b[J\u001b[J\u001b[J\u001b[J\u001b[J\u001b[J\u001b[J\u001b[J\u001b[J\u001b[J\u001b[J\u001b[J\u001b[J\u001b[J\u001b[J\u001b[J\u001b[J\u001b[J\u001b[J\u001b[J\u001b[J\u001b[J\u001b[J\u001b[J\u001b[J\u001b[J\u001b[J\u001b[J\u001b[J\u001b[J\u001b[J\u001b[J\u001b[J\u001b[J\u001b[J\u001b[J\u001b[J\u001b[J\u001b[J\u001b[J\u001b[J\u001b[J     total [#.................................................]  3.67%\n",
      "this epoch [#################################.................] 66.67%\n",
      "      1000 iter, 3 epoch / 100 epochs\n",
      "    183.51 iters/sec. Estimated time to finish: 0:05:14.963802.\n",
      "\u001b[4A\u001b[J\u001b[J\u001b[J\u001b[J\u001b[J\u001b[J\u001b[J\u001b[J\u001b[J\u001b[J\u001b[J\u001b[J\u001b[J\u001b[J\u001b[J\u001b[J\u001b[J\u001b[J\u001b[J\u001b[J\u001b[J\u001b[J\u001b[J\u001b[J\u001b[J\u001b[J\u001b[J\u001b[J\u001b[J\u001b[J\u001b[J\u001b[J\u001b[J\u001b[J\u001b[J\u001b[J\u001b[J\u001b[J\u001b[J\u001b[J\u001b[J\u001b[J\u001b[J\u001b[J\u001b[J\u001b[J\u001b[J\u001b[J\u001b[J\u001b[J\u001b[J\u001b[J\u001b[J\u001b[J\u001b[J\u001b[J\u001b[J\u001b[J\u001b[J\u001b[J\u001b[J\u001b[J\u001b[J\u001b[J\u001b[J\u001b[J\u001b[J\u001b[J\u001b[J\u001b[J\u001b[J\u001b[J\u001b[J\u001b[J\u001b[J\u001b[J\u001b[J\u001b[J\u001b[J\u001b[J\u001b[J\u001b[J\u001b[J\u001b[J\u001b[J\u001b[J\u001b[J\u001b[J\u001b[J\u001b[J\u001b[J\u001b[J\u001b[J\u001b[J\u001b[J\u001b[J\u001b[J\u001b[J\u001b[J\u001b[J\u001b[J     total [#.................................................]  3.83%\n",
      "this epoch [#########################################.........] 83.33%\n",
      "      1100 iter, 3 epoch / 100 epochs\n",
      "    184.46 iters/sec. Estimated time to finish: 0:05:12.802011.\n",
      "\u001b[4A\u001b[J\u001b[J\u001b[J\u001b[J\u001b[J\u001b[J\u001b[J\u001b[J\u001b[J\u001b[J\u001b[J\u001b[J\u001b[J\u001b[J\u001b[J\u001b[J\u001b[J\u001b[J\u001b[J\u001b[J\u001b[J\u001b[J\u001b[J\u001b[J\u001b[J\u001b[J\u001b[J\u001b[J\u001b[J\u001b[J\u001b[J\u001b[J\u001b[J\u001b[J\u001b[J\u001b[J\u001b[J\u001b[J\u001b[J\u001b[J\u001b[J\u001b[J\u001b[J\u001b[J\u001b[J\u001b[J\u001b[J\u001b[J\u001b[J\u001b[J\u001b[J\u001b[J\u001b[J\u001b[J\u001b[J\u001b[J\u001b[J\u001b[J\u001b[J\u001b[J\u001b[J\u001b[J\u001b[J\u001b[J\u001b[J\u001b[J\u001b[J\u001b[J\u001b[J\u001b[J\u001b[J\u001b[J\u001b[J\u001b[J\u001b[J\u001b[J\u001b[J\u001b[J\u001b[J\u001b[J\u001b[J\u001b[J\u001b[J\u001b[J\u001b[J\u001b[J\u001b[J\u001b[J\u001b[J\u001b[J\u001b[J\u001b[J\u001b[J\u001b[J\u001b[J\u001b[J\u001b[J\u001b[J\u001b[J\u001b[J"
     ]
    },
    {
     "ename": "FileExistsError",
     "evalue": "[WinError 183] 既に存在するファイルを作成することはできません。: 'C:\\\\Users\\\\alluser\\\\Documents\\\\GitHub\\\\chainer_course\\\\result1\\\\logkumpyodd' -> 'result1\\\\log'",
     "output_type": "error",
     "traceback": [
      "\u001b[1;31m---------------------------------------------------------------------------\u001b[0m",
      "\u001b[1;31mFileExistsError\u001b[0m                           Traceback (most recent call last)",
      "\u001b[1;32m<ipython-input-9-3287ea1d3afc>\u001b[0m in \u001b[0;36m<module>\u001b[1;34m()\u001b[0m\n\u001b[1;32m----> 1\u001b[1;33m \u001b[0mtrainer\u001b[0m\u001b[1;33m.\u001b[0m\u001b[0mrun\u001b[0m\u001b[1;33m(\u001b[0m\u001b[1;33m)\u001b[0m\u001b[1;33m\u001b[0m\u001b[0m\n\u001b[0m",
      "\u001b[1;32mc:\\miniconda3\\lib\\site-packages\\chainer\\training\\trainer.py\u001b[0m in \u001b[0;36mrun\u001b[1;34m(self)\u001b[0m\n\u001b[0;32m    266\u001b[0m                     \u001b[1;32mfor\u001b[0m \u001b[0mname\u001b[0m\u001b[1;33m,\u001b[0m \u001b[0mentry\u001b[0m \u001b[1;32min\u001b[0m \u001b[0mextensions\u001b[0m\u001b[1;33m:\u001b[0m\u001b[1;33m\u001b[0m\u001b[0m\n\u001b[0;32m    267\u001b[0m                         \u001b[1;32mif\u001b[0m \u001b[0mentry\u001b[0m\u001b[1;33m.\u001b[0m\u001b[0mtrigger\u001b[0m\u001b[1;33m(\u001b[0m\u001b[0mself\u001b[0m\u001b[1;33m)\u001b[0m\u001b[1;33m:\u001b[0m\u001b[1;33m\u001b[0m\u001b[0m\n\u001b[1;32m--> 268\u001b[1;33m                             \u001b[0mentry\u001b[0m\u001b[1;33m.\u001b[0m\u001b[0mextension\u001b[0m\u001b[1;33m(\u001b[0m\u001b[0mself\u001b[0m\u001b[1;33m)\u001b[0m\u001b[1;33m\u001b[0m\u001b[0m\n\u001b[0m\u001b[0;32m    269\u001b[0m         \u001b[1;32mfinally\u001b[0m\u001b[1;33m:\u001b[0m\u001b[1;33m\u001b[0m\u001b[0m\n\u001b[0;32m    270\u001b[0m             \u001b[1;32mfor\u001b[0m \u001b[0m_\u001b[0m\u001b[1;33m,\u001b[0m \u001b[0mentry\u001b[0m \u001b[1;32min\u001b[0m \u001b[0mextensions\u001b[0m\u001b[1;33m:\u001b[0m\u001b[1;33m\u001b[0m\u001b[0m\n",
      "\u001b[1;32mc:\\miniconda3\\lib\\site-packages\\chainer\\training\\extensions\\log_report.py\u001b[0m in \u001b[0;36m__call__\u001b[1;34m(self, trainer)\u001b[0m\n\u001b[0;32m     92\u001b[0m                 \u001b[1;32mwith\u001b[0m \u001b[0mos\u001b[0m\u001b[1;33m.\u001b[0m\u001b[0mfdopen\u001b[0m\u001b[1;33m(\u001b[0m\u001b[0mfd\u001b[0m\u001b[1;33m,\u001b[0m \u001b[1;34m'w'\u001b[0m\u001b[1;33m)\u001b[0m \u001b[1;32mas\u001b[0m \u001b[0mf\u001b[0m\u001b[1;33m:\u001b[0m\u001b[1;33m\u001b[0m\u001b[0m\n\u001b[0;32m     93\u001b[0m                     \u001b[0mjson\u001b[0m\u001b[1;33m.\u001b[0m\u001b[0mdump\u001b[0m\u001b[1;33m(\u001b[0m\u001b[0mself\u001b[0m\u001b[1;33m.\u001b[0m\u001b[0m_log\u001b[0m\u001b[1;33m,\u001b[0m \u001b[0mf\u001b[0m\u001b[1;33m,\u001b[0m \u001b[0mindent\u001b[0m\u001b[1;33m=\u001b[0m\u001b[1;36m4\u001b[0m\u001b[1;33m)\u001b[0m\u001b[1;33m\u001b[0m\u001b[0m\n\u001b[1;32m---> 94\u001b[1;33m                 \u001b[0mos\u001b[0m\u001b[1;33m.\u001b[0m\u001b[0mrename\u001b[0m\u001b[1;33m(\u001b[0m\u001b[0mpath\u001b[0m\u001b[1;33m,\u001b[0m \u001b[0mos\u001b[0m\u001b[1;33m.\u001b[0m\u001b[0mpath\u001b[0m\u001b[1;33m.\u001b[0m\u001b[0mjoin\u001b[0m\u001b[1;33m(\u001b[0m\u001b[0mtrainer\u001b[0m\u001b[1;33m.\u001b[0m\u001b[0mout\u001b[0m\u001b[1;33m,\u001b[0m \u001b[0mlog_name\u001b[0m\u001b[1;33m)\u001b[0m\u001b[1;33m)\u001b[0m\u001b[1;33m\u001b[0m\u001b[0m\n\u001b[0m\u001b[0;32m     95\u001b[0m \u001b[1;33m\u001b[0m\u001b[0m\n\u001b[0;32m     96\u001b[0m             \u001b[1;31m# reset the summary for the next output\u001b[0m\u001b[1;33m\u001b[0m\u001b[1;33m\u001b[0m\u001b[0m\n",
      "\u001b[1;31mFileExistsError\u001b[0m: [WinError 183] 既に存在するファイルを作成することはできません。: 'C:\\\\Users\\\\alluser\\\\Documents\\\\GitHub\\\\chainer_course\\\\result1\\\\logkumpyodd' -> 'result1\\\\log'"
     ]
    }
   ],
   "source": [
    "# Run the training\n",
    "trainer.run()"
   ]
  },
  {
   "cell_type": "code",
   "execution_count": null,
   "metadata": {
    "collapsed": true
   },
   "outputs": [],
   "source": [
    "#その他　trainerの機能\n",
    "\n",
    "# Dump a computational graph from 'loss' variable at the first iteration\n",
    "# The \"main\" refers to the target link of the \"main\" optimizer.\n",
    "trainer.extend(extensions.dump_graph('main/loss'))\n",
    "\n",
    "# Take a snapshot at each epoch\n",
    "trainer.extend(extensions.snapshot())\n",
    "\n",
    "if args.resume:\n",
    "    # Resume from a snapshot\n",
    "    chainer.serializers.load_npz(args.resume, trainer)"
   ]
  }
 ],
 "metadata": {
  "kernelspec": {
   "display_name": "Python 3",
   "language": "python",
   "name": "python3"
  },
  "language_info": {
   "codemirror_mode": {
    "name": "ipython",
    "version": 3
   },
   "file_extension": ".py",
   "mimetype": "text/x-python",
   "name": "python",
   "nbconvert_exporter": "python",
   "pygments_lexer": "ipython3",
   "version": "3.5.1"
  }
 },
 "nbformat": 4,
 "nbformat_minor": 0
}
